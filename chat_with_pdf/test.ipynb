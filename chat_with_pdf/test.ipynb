{
 "cells": [
  {
   "cell_type": "code",
   "execution_count": 1,
   "metadata": {},
   "outputs": [
    {
     "name": "stderr",
     "output_type": "stream",
     "text": [
      "/home/arch/Desktop/promptflow-main/examples/flows/chat/chat-with-pdf/.venv/lib/python3.11/site-packages/tqdm/auto.py:21: TqdmWarning: IProgress not found. Please update jupyter and ipywidgets. See https://ipywidgets.readthedocs.io/en/stable/user_install.html\n",
      "  from .autonotebook import tqdm as notebook_tqdm\n",
      "None of PyTorch, TensorFlow >= 2.0, or Flax have been found. Models won't be available and only tokenizers, configuration and file/data utilities can be used.\n"
     ]
    },
    {
     "name": "stdout",
     "output_type": "stream",
     "text": [
      "Chunk size: 256, chunk overlap: 16\n",
      "Index path: /home/arch/Desktop/promptflow-main/examples/flows/chat/chat-with-pdf/chat_with_pdf/.index/.pdfs/http___127.0.0.1_5000_get_pdf.pdf.index_256_16\n",
      "Index already exists, bypassing index creation\n",
      "Pdf already exists in /home/arch/Desktop/promptflow-main/examples/flows/chat/chat-with-pdf/chat_with_pdf/.pdfs/http___127.0.0.1_5000_get_pdf.pdf\n",
      "/home/arch/Desktop/promptflow-main/examples/flows/chat/chat-with-pdf/chat_with_pdf/.pdfs/http___127.0.0.1_5000_get_pdf.pdf\n",
      "Pdf already exists in /home/arch/Desktop/promptflow-main/examples/flows/chat/chat-with-pdf/chat_with_pdf/.pdfs/http___127.0.0.1_5000_get_pdf.pdf\n",
      "Chunk size: 256, chunk overlap: 16\n",
      "Index path: /home/arch/Desktop/promptflow-main/examples/flows/chat/chat-with-pdf/chat_with_pdf/.index/.pdfs/http___127.0.0.1_5000_get_pdf.pdf.index_256_16\n",
      "Index already exists, bypassing index creation\n",
      "Rewritten question: What is PromptFlow?\n",
      "User: what is Promptflow?\n",
      "Bot: PromptFlow is a suite of development tools designed to streamline the end-to-end development cycle of LLM-based AI applications, from ideation, prototyping, testing, evaluation to production deployment and monitoring. It makes prompt engineering more robust, secure, and compliant with industry standards.\n"
     ]
    }
   ],
   "source": [
    "from main import chat_with_pdf, print_stream_and_return_full_answer\n",
    "from dotenv import load_dotenv\n",
    "\n",
    "load_dotenv()\n",
    "\n",
    "bert_paper_url = \"http://127.0.0.1:5000/get_pdf\"\n",
    "questions = [\n",
    "    \"what is Promptflow?\"\n",
    "]\n",
    "\n",
    "history = []\n",
    "for q in questions:\n",
    "    stream, context = chat_with_pdf(q, bert_paper_url, history)\n",
    "    print(\"User: \" + q, flush=True)\n",
    "    print(\"Bot: \", end=\"\", flush=True)\n",
    "    answer = print_stream_and_return_full_answer(stream)\n",
    "    history = history + [\n",
    "        {\"role\": \"user\", \"content\": q},\n",
    "        {\"role\": \"assistant\", \"content\": answer},\n",
    "    ]"
   ]
  },
  {
   "cell_type": "code",
   "execution_count": null,
   "metadata": {},
   "outputs": [],
   "source": []
  }
 ],
 "metadata": {
  "kernelspec": {
   "display_name": "pf",
   "language": "python",
   "name": "python3"
  },
  "language_info": {
   "codemirror_mode": {
    "name": "ipython",
    "version": 3
   },
   "file_extension": ".py",
   "mimetype": "text/x-python",
   "name": "python",
   "nbconvert_exporter": "python",
   "pygments_lexer": "ipython3",
   "version": "3.11.4"
  },
  "stage": "development"
 },
 "nbformat": 4,
 "nbformat_minor": 2
}
